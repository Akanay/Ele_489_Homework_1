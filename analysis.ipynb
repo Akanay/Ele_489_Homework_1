{
 "cells": [
  {
   "cell_type": "code",
   "id": "initial_id",
   "metadata": {
    "collapsed": true,
    "ExecuteTime": {
     "end_time": "2025-04-03T13:33:13.391908Z",
     "start_time": "2025-04-03T13:33:13.376973Z"
    }
   },
   "source": [
    "import numpy as np\n",
    "import pandas as pd\n",
    "import matplotlib.pyplot as plt\n",
    "from sklearn.model_selection import train_test_split\n",
    "from sklearn.metrics import accuracy_score, confusion_matrix, classification_report\n",
    "from sklearn.neighbors import KNeighborsClassifier\n",
    "from sklearn.preprocessing import StandardScaler\n",
    "from knn import my_knn\n",
    "# Manually defined column names\n",
    "column_names = [\n",
    "    'Class',\n",
    "    'Alcohol',\n",
    "    'Malic_acid',\n",
    "    'Ash',\n",
    "    'Alcalinity_of_ash',\n",
    "    'Magnesium',\n",
    "    'Total_phenols',\n",
    "    'Flavanoids',\n",
    "    'Nonflavanoid_phenols',\n",
    "    'Proanthocyanins',\n",
    "    'Color_intensity',\n",
    "    'Hue',\n",
    "    'OD280/OD315_of_diluted_wines',\n",
    "    'Proline'\n",
    "]\n",
    "# import wine dataset\n",
    "wine = pd.read_csv('C:/Users/akana/Masaüstü/wine.data', names=column_names)\n",
    "y = wine.iloc[:, 0]\n",
    "x = wine.iloc[:, 1:]\n",
    "print(x)\n",
    "print(y)\n"
   ],
   "outputs": [
    {
     "name": "stdout",
     "output_type": "stream",
     "text": [
      "     Alcohol  Malic_acid   Ash  Alcalinity_of_ash  Magnesium  Total_phenols  \\\n",
      "0      14.23        1.71  2.43               15.6        127           2.80   \n",
      "1      13.20        1.78  2.14               11.2        100           2.65   \n",
      "2      13.16        2.36  2.67               18.6        101           2.80   \n",
      "3      14.37        1.95  2.50               16.8        113           3.85   \n",
      "4      13.24        2.59  2.87               21.0        118           2.80   \n",
      "..       ...         ...   ...                ...        ...            ...   \n",
      "173    13.71        5.65  2.45               20.5         95           1.68   \n",
      "174    13.40        3.91  2.48               23.0        102           1.80   \n",
      "175    13.27        4.28  2.26               20.0        120           1.59   \n",
      "176    13.17        2.59  2.37               20.0        120           1.65   \n",
      "177    14.13        4.10  2.74               24.5         96           2.05   \n",
      "\n",
      "     Flavanoids  Nonflavanoid_phenols  Proanthocyanins  Color_intensity   Hue  \\\n",
      "0          3.06                  0.28             2.29             5.64  1.04   \n",
      "1          2.76                  0.26             1.28             4.38  1.05   \n",
      "2          3.24                  0.30             2.81             5.68  1.03   \n",
      "3          3.49                  0.24             2.18             7.80  0.86   \n",
      "4          2.69                  0.39             1.82             4.32  1.04   \n",
      "..          ...                   ...              ...              ...   ...   \n",
      "173        0.61                  0.52             1.06             7.70  0.64   \n",
      "174        0.75                  0.43             1.41             7.30  0.70   \n",
      "175        0.69                  0.43             1.35            10.20  0.59   \n",
      "176        0.68                  0.53             1.46             9.30  0.60   \n",
      "177        0.76                  0.56             1.35             9.20  0.61   \n",
      "\n",
      "     OD280/OD315_of_diluted_wines  Proline  \n",
      "0                            3.92     1065  \n",
      "1                            3.40     1050  \n",
      "2                            3.17     1185  \n",
      "3                            3.45     1480  \n",
      "4                            2.93      735  \n",
      "..                            ...      ...  \n",
      "173                          1.74      740  \n",
      "174                          1.56      750  \n",
      "175                          1.56      835  \n",
      "176                          1.62      840  \n",
      "177                          1.60      560  \n",
      "\n",
      "[178 rows x 13 columns]\n",
      "0      1\n",
      "1      1\n",
      "2      1\n",
      "3      1\n",
      "4      1\n",
      "      ..\n",
      "173    3\n",
      "174    3\n",
      "175    3\n",
      "176    3\n",
      "177    3\n",
      "Name: Class, Length: 178, dtype: int64\n"
     ]
    }
   ],
   "execution_count": 32
  },
  {
   "metadata": {
    "ExecuteTime": {
     "end_time": "2025-04-03T13:32:46.349939Z",
     "start_time": "2025-04-03T13:32:46.340694Z"
    }
   },
   "cell_type": "code",
   "source": [
    "# Split the data as training and test data\n",
    "x_train, x_test, y_train, y_test = train_test_split(x, y, test_size=0.2, shuffle=True, random_state=0)\n",
    "scaler = StandardScaler()  # StandardScaler for standardization this gives better accuracy because the mean is 0 and variance is 1\n",
    "normalized_x_train = scaler.fit_transform(x_train)\n",
    "normalized_x_test = scaler.transform(x_test)\n",
    "print(normalized_x_train)"
   ],
   "id": "4da06c42b0c477a6",
   "outputs": [
    {
     "name": "stdout",
     "output_type": "stream",
     "text": [
      "[[ 0.87668336  0.79842885  0.64412971 ...  0.0290166  -1.06412236\n",
      "  -0.2059076 ]\n",
      " [-0.36659076 -0.7581304  -0.39779858 ...  0.0290166  -0.73083231\n",
      "  -0.81704676]\n",
      " [-1.69689407 -0.34424759 -0.32337513 ...  0.90197362  0.51900537\n",
      "  -1.31256499]\n",
      " ...\n",
      " [-0.70227477 -0.68615078 -0.65828065 ...  0.46549511  0.51900537\n",
      "  -1.31256499]\n",
      " [ 1.13777093 -0.62316862 -0.91876272 ... -0.18922266  1.03282752\n",
      "   0.80164614]\n",
      " [ 1.4610222   0.12361993  0.42085937 ... -1.45501034 -1.2168803\n",
      "  -0.2719767 ]]\n"
     ]
    }
   ],
   "execution_count": 25
  },
  {
   "metadata": {
    "ExecuteTime": {
     "end_time": "2025-04-03T13:32:48.317522Z",
     "start_time": "2025-04-03T13:32:48.292227Z"
    }
   },
   "cell_type": "code",
   "source": [
    "k=3\n",
    "y_knn=my_knn(normalized_x_train,normalized_x_test,y_train,k)\n",
    "print(y_knn)\n",
    "y_pred_sklearn= knn.predict(normalized_x_test)\n",
    "print(y_pred_sklearn)\n",
    "print(f'The accuracy of my implementation of knn is {accuracy_score(y_test, y_knn)}')\n",
    "print(f'The accuracy of sklearn implementation is {accuracy_score(y_test, y_pred_sklearn)}')"
   ],
   "id": "5365efe255dfca8e",
   "outputs": [
    {
     "name": "stdout",
     "output_type": "stream",
     "text": [
      "[1, 3, 2, 1, 2, 2, 1, 3, 2, 2, 3, 3, 1, 2, 3, 2, 1, 1, 3, 1, 2, 1, 1, 2, 2, 2, 2, 2, 2, 3, 1, 1, 2, 1, 1, 1]\n",
      "[1 3 2 1 1 2 1 3 2 2 3 3 1 2 3 2 1 1 3 1 2 1 1 2 2 2 2 2 2 3 1 1 2 1 1 1]\n",
      "The accuracy of my implementation of knn is 0.9722222222222222\n",
      "The accuracy of sklearn implementation is 0.9444444444444444\n"
     ]
    }
   ],
   "execution_count": 26
  },
  {
   "metadata": {
    "ExecuteTime": {
     "end_time": "2025-04-03T13:32:52.064992Z",
     "start_time": "2025-04-03T13:32:49.675563Z"
    }
   },
   "cell_type": "code",
   "source": [
    "#accuracy vs k\n",
    "accuracies = []\n",
    "k_range = range(1, 142)  # k up to 142 to see the k effect\n",
    "\n",
    "for k in k_range:\n",
    "    y_knn=my_knn(normalized_x_train, normalized_x_test,y_train,k)\n",
    "    accuracy = accuracy_score(y_test, y_knn)\n",
    "    accuracies.append(accuracy)\n",
    "\n",
    "# Plotting accuracy vs K\n",
    "plt.figure(figsize=(10, 6))\n",
    "plt.plot(k_range, accuracies, marker='o', linestyle='', color='r')\n",
    "plt.title('Accuracy vs. K (Number of Neighbors)')\n",
    "plt.xlabel('K (Number of Neighbors)')\n",
    "plt.ylabel('Accuracy')\n",
    "plt.grid(True)\n",
    "plt.xticks(k_range)\n",
    "plt.show()"
   ],
   "id": "9a35db3a986295bc",
   "outputs": [
    {
     "data": {
      "text/plain": [
       "<Figure size 1000x600 with 1 Axes>"
      ],
      "image/png": "[encoded data removed]"
     },
     "metadata": {},
     "output_type": "display_data"
    }
   ],
   "execution_count": 27
  },
  {
   "metadata": {
    "ExecuteTime": {
     "end_time": "2025-04-03T13:32:54.003433Z",
     "start_time": "2025-04-03T13:32:53.994996Z"
    }
   },
   "cell_type": "code",
   "source": [
    "#Evaluate the KNN model with sklearn for comparison\n",
    "k_best = 3  # We can choose k=3 based on accuracy\n",
    "knn = KNeighborsClassifier(n_neighbors=k_best)\n",
    "knn.fit(normalized_x_train, y_train)\n",
    "y_pred_sklearn = knn.predict(normalized_x_test)"
   ],
   "id": "9099bf53d1dd817d",
   "outputs": [],
   "execution_count": 28
  },
  {
   "metadata": {
    "ExecuteTime": {
     "end_time": "2025-04-03T13:32:56.175046Z",
     "start_time": "2025-04-03T13:32:56.168758Z"
    }
   },
   "cell_type": "code",
   "source": [
    "# Confusion Matrix for custom KNN\n",
    "conf_matrix_custom = confusion_matrix(y_test, y_knn)\n",
    "print(\"\\nConfusion Matrix for my KNN:\")\n",
    "print(conf_matrix_custom)\n",
    "# Confusion Matrix for sklearn KNN\n",
    "conf_matrix_sklearn = confusion_matrix(y_test, y_pred_sklearn)\n",
    "print(\"\\nConfusion Matrix for Sklearn KNN:\")\n",
    "print(conf_matrix_sklearn)"
   ],
   "id": "39e308ca30519af5",
   "outputs": [
    {
     "name": "stdout",
     "output_type": "stream",
     "text": [
      "\n",
      "Confusion Matrix for my KNN:\n",
      "[[ 0 14  0]\n",
      " [ 0 16  0]\n",
      " [ 0  6  0]]\n",
      "\n",
      "Confusion Matrix for Sklearn KNN:\n",
      "[[14  0  0]\n",
      " [ 1 14  1]\n",
      " [ 0  0  6]]\n"
     ]
    }
   ],
   "execution_count": 29
  },
  {
   "metadata": {
    "ExecuteTime": {
     "end_time": "2025-04-03T13:35:44.226145Z",
     "start_time": "2025-04-03T13:35:44.208618Z"
    }
   },
   "cell_type": "code",
   "source": [
    "# Classification Report for custom KNN\n",
    "class_report_custom = classification_report(y_test, y_knn,zero_division=0)\n",
    "print(\"\\nClassification Report for my KNN:\")\n",
    "print(class_report_custom)\n",
    "\n",
    "# Classification Report for sklearn KNN\n",
    "class_report_sklearn = classification_report(y_test, y_pred_sklearn,zero_division=0)\n",
    "print(\"\\nClassification Report for Sklearn KNN:\")\n",
    "print(class_report_sklearn)"
   ],
   "id": "6b97638dfdd52a40",
   "outputs": [
    {
     "name": "stdout",
     "output_type": "stream",
     "text": [
      "\n",
      "Classification Report for my KNN:\n",
      "              precision    recall  f1-score   support\n",
      "\n",
      "           1       0.00      0.00      0.00        14\n",
      "           2       0.44      1.00      0.62        16\n",
      "           3       0.00      0.00      0.00         6\n",
      "\n",
      "    accuracy                           0.44        36\n",
      "   macro avg       0.15      0.33      0.21        36\n",
      "weighted avg       0.20      0.44      0.27        36\n",
      "\n",
      "\n",
      "Classification Report for Sklearn KNN:\n",
      "              precision    recall  f1-score   support\n",
      "\n",
      "           1       0.93      1.00      0.97        14\n",
      "           2       1.00      0.88      0.93        16\n",
      "           3       0.86      1.00      0.92         6\n",
      "\n",
      "    accuracy                           0.94        36\n",
      "   macro avg       0.93      0.96      0.94        36\n",
      "weighted avg       0.95      0.94      0.94        36\n",
      "\n"
     ]
    }
   ],
   "execution_count": 35
  }
 ],
 "metadata": {
  "kernelspec": {
   "display_name": "Python 3",
   "language": "python",
   "name": "python3"
  },
  "language_info": {
   "codemirror_mode": {
    "name": "ipython",
    "version": 2
   },
   "file_extension": ".py",
   "mimetype": "text/x-python",
   "name": "python",
   "nbconvert_exporter": "python",
   "pygments_lexer": "ipython2",
   "version": "2.7.6"
  }
 },
 "nbformat": 4,
 "nbformat_minor": 5
}
